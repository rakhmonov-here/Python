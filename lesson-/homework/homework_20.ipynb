{
 "cells": [
  {
   "cell_type": "code",
   "execution_count": 2,
   "id": "8928e670",
   "metadata": {},
   "outputs": [],
   "source": [
    "# Homework. Lesson 20\n",
    "import sqlite3\n",
    "import pandas as pd"
   ]
  },
  {
   "cell_type": "code",
   "execution_count": null,
   "id": "255d2bca",
   "metadata": {},
   "outputs": [
    {
     "name": "stdout",
     "output_type": "stream",
     "text": [
      "    CustomerId        CustomerName  Total\n",
      "5            6         Helena Holý  49.62\n",
      "25          26  Richard Cunningham  47.62\n",
      "56          57          Luis Rojas  46.62\n",
      "44          45     Ladislav Kovács  45.62\n",
      "45          46       Hugh O'Reilly  45.62\n"
     ]
    }
   ],
   "source": [
    "# 1) Customer Purchases Analysis:\n",
    "conn = sqlite3.connect('chinook.db')\n",
    "\n",
    "customers = pd.read_sql(\"SELECT CustomerId, FirstName, LastName FROM customers\", conn)\n",
    "invoices = pd.read_sql(\"SELECT InvoiceID, CustomerId, Total FROM invoices\", conn)\n",
    "\n",
    "customer_spent = invoices.groupby('CustomerId')['Total'].sum().reset_index()\n",
    "\n",
    "result = customer_spent.merge(customers, on='CustomerId')\n",
    "result['CustomerName'] = result['FirstName'] + ' ' + result['LastName']\n",
    "\n",
    "top5 = result.sort_values(by='Total', ascending=False).head(5)\n",
    "print(top5[['CustomerId', 'CustomerName', 'Total']])"
   ]
  },
  {
   "cell_type": "code",
   "execution_count": null,
   "id": "a2119bf0",
   "metadata": {},
   "outputs": [
    {
     "name": "stdout",
     "output_type": "stream",
     "text": [
      "Category\n",
      "Individual Tracks    64.40678\n",
      "Full Album           35.59322\n",
      "Name: proportion, dtype: float64\n"
     ]
    }
   ],
   "source": [
    "# 2) Album vs. Individual Track Purchases:\n",
    "conn = sqlite3.connect('chinook.db')\n",
    "\n",
    "invoice_lines = pd.read_sql(\"SELECT InvoiceLineId, InvoiceId, TrackId FROM invoice_items\", conn)\n",
    "invoices = pd.read_sql(\"SELECT InvoiceId, CustomerId FROM invoices\", conn)\n",
    "tracks = pd.read_sql(\"SELECT TrackId, AlbumId FROM tracks\", conn)\n",
    "albums = pd.read_sql(\"SELECT albumId FROM albums\", conn)\n",
    "\n",
    "data = invoice_lines.merge(invoices, on= 'InvoiceId').merge(tracks, on= 'TrackId')\n",
    "\n",
    "album_track_counts = tracks.groupby(\"AlbumId\")[\"TrackId\"].nunique().reset_index(name=\"AlbumTotalTracks\")\n",
    "cust_album_tracks = data.groupby([\"CustomerId\", \"AlbumId\"])[\"TrackId\"].nunique().reset_index(name=\"TracksBought\")\n",
    "cust_album_tracks = cust_album_tracks.merge(album_track_counts, on=\"AlbumId\")\n",
    "cust_album_tracks[\"IsFullAlbum\"] = cust_album_tracks[\"TracksBought\"] == cust_album_tracks[\"AlbumTotalTracks\"]\n",
    "customer_pref = cust_album_tracks.groupby(\"CustomerId\")[\"IsFullAlbum\"].max().reset_index()\n",
    "customer_pref[\"Category\"] = customer_pref[\"IsFullAlbum\"].apply(lambda x: \"Full Album\" if x else \"Individual Tracks\")\n",
    "summary = customer_pref[\"Category\"].value_counts(normalize=True) * 100\n",
    "print(summary)  "
   ]
  },
  {
   "cell_type": "code",
   "execution_count": null,
   "id": "3a4688eb",
   "metadata": {},
   "outputs": [],
   "source": []
  }
 ],
 "metadata": {
  "kernelspec": {
   "display_name": "Python 3",
   "language": "python",
   "name": "python3"
  },
  "language_info": {
   "codemirror_mode": {
    "name": "ipython",
    "version": 3
   },
   "file_extension": ".py",
   "mimetype": "text/x-python",
   "name": "python",
   "nbconvert_exporter": "python",
   "pygments_lexer": "ipython3",
   "version": "3.13.6"
  }
 },
 "nbformat": 4,
 "nbformat_minor": 5
}
