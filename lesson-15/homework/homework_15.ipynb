{
 "cells": [
  {
   "cell_type": "code",
   "execution_count": null,
   "id": "a0f642f3",
   "metadata": {},
   "outputs": [],
   "source": [
    "import sqlite3\n",
    "\n",
    "with sqlite3.connect(\"Homework.db\") as connection:\n",
    "    cursor = connection.cursor()\n",
    "    query = \"\"\"CREATE TABLE Roster(\n",
    "            Name TEXT,\n",
    "            Species TEXT,\n",
    "            Age INT\n",
    "            )\"\"\"\n",
    "    results = cursor.execute(query)\n"
   ]
  },
  {
   "cell_type": "code",
   "execution_count": 6,
   "id": "80f13268",
   "metadata": {},
   "outputs": [],
   "source": [
    "people_values = (\n",
    "(\"Benjamin Sisko\", \"Human\", 40),\n",
    "(\"Jadzia Dax\", \"Trill\", 300),\n",
    "(\"Kira Nerys\", \"Bajoran\", 29)\n",
    ")\n",
    "\n",
    "with sqlite3.connect(\"Homework.db\") as connection:\n",
    "    cursor = connection.cursor()\n",
    "    cursor.executemany(\"INSERT INTO Roster VALUES(?, ?, ?);\", people_values)\n",
    "\n"
   ]
  },
  {
   "cell_type": "code",
   "execution_count": 7,
   "id": "e66e7d88",
   "metadata": {},
   "outputs": [],
   "source": [
    "with sqlite3.connect(\"Homework.db\") as connection:\n",
    "    cursor = connection.cursor()\n",
    "    cursor.execute(\"UPDATE Roster SET Name = ? WHERE Species = ? AND Age = ?;\",\n",
    "    (\"Ezri Dax\", \"Trill\", 300))"
   ]
  },
  {
   "cell_type": "code",
   "execution_count": 8,
   "id": "6266448a",
   "metadata": {},
   "outputs": [
    {
     "name": "stdout",
     "output_type": "stream",
     "text": [
      "('Kira Nerys', 29)\n"
     ]
    }
   ],
   "source": [
    "with sqlite3.connect(\"Homework.db\") as connection:\n",
    "    cursor = connection.cursor()\n",
    "    cursor.execute(\"SELECT Name, Age FROM Roster WHERE Species = 'Bajoran';\")\n",
    "    for row in cursor.fetchall():\n",
    "        print(row)"
   ]
  },
  {
   "cell_type": "code",
   "execution_count": null,
   "id": "7d24db43",
   "metadata": {},
   "outputs": [],
   "source": []
  }
 ],
 "metadata": {
  "kernelspec": {
   "display_name": "Python 3",
   "language": "python",
   "name": "python3"
  },
  "language_info": {
   "codemirror_mode": {
    "name": "ipython",
    "version": 3
   },
   "file_extension": ".py",
   "mimetype": "text/x-python",
   "name": "python",
   "nbconvert_exporter": "python",
   "pygments_lexer": "ipython3",
   "version": "3.13.6"
  }
 },
 "nbformat": 4,
 "nbformat_minor": 5
}
