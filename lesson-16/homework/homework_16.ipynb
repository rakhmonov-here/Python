{
 "cells": [
  {
   "cell_type": "code",
   "execution_count": 1,
   "id": "79369624",
   "metadata": {},
   "outputs": [
    {
     "name": "stdout",
     "output_type": "stream",
     "text": [
      "Original List: [12.23, 13.32, 100, 36.32]\n",
      "[ 12.23  13.32 100.    36.32]\n"
     ]
    }
   ],
   "source": [
    "# Homework. Lesson 16\n",
    "# 1. Convert List to 1D Array\n",
    "import numpy as np\n",
    "\n",
    "# Original list\n",
    "list1 = [12.23, 13.32, 100, 36.32]\n",
    "print(\"Original List:\", list1)\n",
    "\n",
    "# Convert to NumPy array\n",
    "array1 = np.array(list1)\n",
    "print(array1)\n"
   ]
  },
  {
   "cell_type": "code",
   "execution_count": 2,
   "id": "4e5e8a16",
   "metadata": {},
   "outputs": [
    {
     "name": "stdout",
     "output_type": "stream",
     "text": [
      "[[ 2  3  4]\n",
      " [ 5  6  7]\n",
      " [ 8  9 10]]\n"
     ]
    }
   ],
   "source": [
    "# 2. Create 3x3 Matrix (2?10)\n",
    "import numpy as np\n",
    "\n",
    "# Create values from 2 to 10\n",
    "matrix = np.arange(2, 11).reshape(3, 3)\n",
    "\n",
    "print(matrix)\n"
   ]
  },
  {
   "cell_type": "code",
   "execution_count": 3,
   "id": "5b4b49e5",
   "metadata": {},
   "outputs": [
    {
     "name": "stdout",
     "output_type": "stream",
     "text": [
      "Original Null Vector: [0. 0. 0. 0. 0. 0. 0. 0. 0. 0.]\n",
      "Updated Vector: [ 0.  0.  0.  0.  0. 11.  0.  0.  0.  0.]\n"
     ]
    }
   ],
   "source": [
    "# 3. Null Vector (10) & Update Sixth Value\n",
    "import numpy as np\n",
    "\n",
    "# Create a null vector of size 10\n",
    "vector = np.zeros(10)\n",
    "print(\"Original Null Vector:\", vector)\n",
    "\n",
    "# Update the sixth value to 11\n",
    "vector[5] = 11\n",
    "print(\"Updated Vector:\", vector)\n"
   ]
  },
  {
   "cell_type": "code",
   "execution_count": 4,
   "id": "e101afab",
   "metadata": {},
   "outputs": [
    {
     "name": "stdout",
     "output_type": "stream",
     "text": [
      "[12 13 14 15 16 17 18 19 20 21 22 23 24 25 26 27 28 29 30 31 32 33 34 35\n",
      " 36 37]\n"
     ]
    }
   ],
   "source": [
    "# 4. Array from 12 to 38\n",
    "import numpy as np\n",
    "\n",
    "# Create array from 12 to 37\n",
    "array = np.arange(12, 38)\n",
    "\n",
    "print(array)\n"
   ]
  },
  {
   "cell_type": "code",
   "execution_count": 5,
   "id": "6f470e1c",
   "metadata": {},
   "outputs": [
    {
     "name": "stdout",
     "output_type": "stream",
     "text": [
      "Original array: [1 2 3 4]\n",
      "Array converted to float: [1. 2. 3. 4.]\n"
     ]
    }
   ],
   "source": [
    "# 5. Convert Array to Float Type\n",
    "import numpy as np\n",
    "\n",
    "# Original array\n",
    "arr = np.array([1, 2, 3, 4])\n",
    "print(\"Original array:\", arr)\n",
    "\n",
    "# Convert to float\n",
    "float_arr = arr.astype(float)\n",
    "print(\"Array converted to float:\", float_arr)\n"
   ]
  },
  {
   "cell_type": "code",
   "execution_count": 6,
   "id": "ddfc6027",
   "metadata": {},
   "outputs": [
    {
     "name": "stdout",
     "output_type": "stream",
     "text": [
      "Values in Fahrenheit degrees: [ 0.   12.   45.21 34.   99.91 32.  ]\n",
      "Values in Centigrade degrees: [-17.78 -11.11   7.34   1.11  37.73   0.  ]\n",
      "Converted back to Fahrenheit: [ 0.   12.   45.21 34.   99.91 32.  ]\n"
     ]
    }
   ],
   "source": [
    "# 6. Celsius to Fahrenheit Conversion\n",
    "import numpy as np\n",
    "\n",
    "# Sample array (Fahrenheit values)\n",
    "fahrenheit = np.array([0, 12, 45.21, 34, 99.91, 32])\n",
    "print(\"Values in Fahrenheit degrees:\", fahrenheit)\n",
    "\n",
    "# Convert Fahrenheit → Centigrade\n",
    "centigrade = (fahrenheit - 32) * 5/9\n",
    "print(\"Values in Centigrade degrees:\", np.round(centigrade, 2))\n",
    "\n",
    "# Convert back Centigrade → Fahrenheit\n",
    "fahrenheit_converted = (centigrade * 9/5) + 32\n",
    "print(\"Converted back to Fahrenheit:\", np.round(fahrenheit_converted, 2))\n"
   ]
  },
  {
   "cell_type": "code",
   "execution_count": 7,
   "id": "c4d690ea",
   "metadata": {},
   "outputs": [
    {
     "name": "stdout",
     "output_type": "stream",
     "text": [
      "Original array: [10 20 30]\n",
      "After append values to the end of the array: [10 20 30 40 50 60 70 80 90]\n"
     ]
    }
   ],
   "source": [
    "# 7. Append Values to Array (Do self-tudy)\n",
    "import numpy as np\n",
    "\n",
    "# Original array\n",
    "arr = np.array([10, 20, 30])\n",
    "print(\"Original array:\", arr)\n",
    "\n",
    "# Append new values\n",
    "new_arr = np.append(arr, [40, 50, 60, 70, 80, 90])\n",
    "print(\"After append values to the end of the array:\", new_arr)\n"
   ]
  },
  {
   "cell_type": "code",
   "execution_count": 8,
   "id": "a1ba53eb",
   "metadata": {},
   "outputs": [
    {
     "name": "stdout",
     "output_type": "stream",
     "text": [
      "Random Array: [32 63 38  6 93 25 30 74 50 33]\n",
      "Mean: 44.4\n",
      "Median: 35.5\n",
      "Standard Deviation: 24.491631223746612\n"
     ]
    }
   ],
   "source": [
    "# 8. Array Statistical Functions (Do self-tudy)\n",
    "import numpy as np\n",
    "\n",
    "# Create a random array of 10 elements\n",
    "arr = np.random.randint(1, 100, 10)   # random integers from 1 to 99\n",
    "print(\"Random Array:\", arr)\n",
    "\n",
    "# Mean\n",
    "mean_val = np.mean(arr)\n",
    "# Median\n",
    "median_val = np.median(arr)\n",
    "# Standard Deviation\n",
    "std_val = np.std(arr)\n",
    "\n",
    "print(\"Mean:\", mean_val)\n",
    "print(\"Median:\", median_val)\n",
    "print(\"Standard Deviation:\", std_val)\n"
   ]
  },
  {
   "cell_type": "code",
   "execution_count": 9,
   "id": "d2cf5977",
   "metadata": {},
   "outputs": [
    {
     "name": "stdout",
     "output_type": "stream",
     "text": [
      "10x10 Random Array:\n",
      " [[0.95821051 0.68344604 0.68924912 0.96722255 0.33348421 0.91707307\n",
      "  0.5266082  0.71147927 0.28071367 0.19288121]\n",
      " [0.70614003 0.96387531 0.91467089 0.8797824  0.09618937 0.59424679\n",
      "  0.08742801 0.22593512 0.8865103  0.40771432]\n",
      " [0.10535469 0.12257168 0.42079076 0.09811973 0.54524609 0.0712242\n",
      "  0.7662918  0.149486   0.00262321 0.86340876]\n",
      " [0.3161904  0.8866667  0.49586738 0.62657422 0.90677052 0.56360784\n",
      "  0.09236353 0.64759344 0.72225656 0.37764363]\n",
      " [0.43806071 0.61377148 0.73932509 0.58631121 0.9280885  0.40229788\n",
      "  0.59169468 0.81811923 0.95435736 0.0529934 ]\n",
      " [0.80283125 0.81027734 0.72921448 0.89568077 0.46187475 0.0392182\n",
      "  0.39326279 0.78910581 0.4253824  0.69295761]\n",
      " [0.76775509 0.93433753 0.24427343 0.29502117 0.59862924 0.53750983\n",
      "  0.85086155 0.62088461 0.4136806  0.3568333 ]\n",
      " [0.31336545 0.43158079 0.22997173 0.45013133 0.013782   0.04965574\n",
      "  0.14186918 0.29514925 0.67667841 0.79141141]\n",
      " [0.53247538 0.50690573 0.22608977 0.43005794 0.11878911 0.97001185\n",
      "  0.12505788 0.58185044 0.8528201  0.02963725]\n",
      " [0.51533258 0.31605707 0.1223317  0.40426188 0.81382921 0.32267215\n",
      "  0.19080011 0.75329257 0.63017043 0.49880119]]\n",
      "\n",
      "Minimum Value: 0.002623214801662388\n",
      "Maximum Value: 0.9700118460497509\n"
     ]
    }
   ],
   "source": [
    "# 9 Find min and max\n",
    "import numpy as np\n",
    "\n",
    "# Create a 10x10 array with random values between 0 and 1\n",
    "arr = np.random.rand(10, 10)\n",
    "print(\"10x10 Random Array:\\n\", arr)\n",
    "\n",
    "# Find minimum and maximum values\n",
    "min_val = arr.min()\n",
    "max_val = arr.max()\n",
    "\n",
    "print(\"\\nMinimum Value:\", min_val)\n",
    "print(\"Maximum Value:\", max_val)\n"
   ]
  },
  {
   "cell_type": "code",
   "execution_count": 10,
   "id": "2d88d865",
   "metadata": {},
   "outputs": [
    {
     "name": "stdout",
     "output_type": "stream",
     "text": [
      "3x3x3 Random Array:\n",
      " [[[0.9246442  0.30313198 0.40340389]\n",
      "  [0.91613673 0.873824   0.82267011]\n",
      "  [0.5348144  0.93382392 0.20475473]]\n",
      "\n",
      " [[0.82202164 0.39110215 0.50209779]\n",
      "  [0.66297363 0.3168438  0.0557412 ]\n",
      "  [0.87287804 0.58702892 0.41846413]]\n",
      "\n",
      " [[0.40344942 0.57300217 0.81792541]\n",
      "  [0.05313583 0.94602124 0.5884913 ]\n",
      "  [0.34850989 0.75474336 0.58407736]]]\n"
     ]
    }
   ],
   "source": [
    "# 10\n",
    "import numpy as np\n",
    "\n",
    "# Create a 3x3x3 array with random values between 0 and 1\n",
    "arr = np.random.rand(3, 3, 3)\n",
    "\n",
    "print(\"3x3x3 Random Array:\\n\", arr)\n"
   ]
  },
  {
   "cell_type": "code",
   "execution_count": null,
   "id": "84246d24",
   "metadata": {},
   "outputs": [],
   "source": []
  }
 ],
 "metadata": {
  "kernelspec": {
   "display_name": "Python 3",
   "language": "python",
   "name": "python3"
  },
  "language_info": {
   "codemirror_mode": {
    "name": "ipython",
    "version": 3
   },
   "file_extension": ".py",
   "mimetype": "text/x-python",
   "name": "python",
   "nbconvert_exporter": "python",
   "pygments_lexer": "ipython3",
   "version": "3.13.6"
  }
 },
 "nbformat": 4,
 "nbformat_minor": 5
}
