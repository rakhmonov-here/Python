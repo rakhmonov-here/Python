{
 "cells": [
  {
   "cell_type": "code",
   "execution_count": 4,
   "id": "277624cc",
   "metadata": {},
   "outputs": [],
   "source": [
    "# Homework. Lesson 19\n",
    "\n",
    "import pandas as pd"
   ]
  },
  {
   "cell_type": "code",
   "execution_count": 17,
   "id": "6ca8d68f",
   "metadata": {},
   "outputs": [],
   "source": [
    "# 1) Analyzing Sales Data\n",
    "df = pd.read_csv('sales_data.csv')"
   ]
  },
  {
   "cell_type": "code",
   "execution_count": 7,
   "id": "f9f25911",
   "metadata": {},
   "outputs": [
    {
     "name": "stdout",
     "output_type": "stream",
     "text": [
      "      Category  Total_quantity_sold  Avarage_price_per_unit  \\\n",
      "0     Clothing                  157               31.176471   \n",
      "1  Electronics                  183              276.764706   \n",
      "2         Home                  144               55.000000   \n",
      "\n",
      "   max_quantity_single_transaction  \n",
      "0                               15  \n",
      "1                               15  \n",
      "2                               14  \n"
     ]
    }
   ],
   "source": [
    "# Statistics for each category\n",
    "category_stats = df.groupby('Category').agg(\n",
    "    Total_quantity_sold = ('Quantity', 'sum'),\n",
    "    Avarage_price_per_unit = ('Price', 'mean'),\n",
    "    max_quantity_single_transaction = ('Quantity', 'max')\n",
    ").reset_index()\n",
    "\n",
    "print(category_stats)"
   ]
  },
  {
   "cell_type": "code",
   "execution_count": 9,
   "id": "baf7a3bf",
   "metadata": {},
   "outputs": [
    {
     "name": "stdout",
     "output_type": "stream",
     "text": [
      "      Category          Product  Quantity\n",
      "0     Clothing            Jeans        15\n",
      "1  Electronics         Smart TV        15\n",
      "2         Home  Pressure Cooker        14\n"
     ]
    }
   ],
   "source": [
    "# Top-selling product in each category\n",
    "top_products = (df.groupby(['Category', 'Product'])['Quantity'].sum().reset_index()\n",
    "                .sort_values(['Category', 'Quantity'], ascending=[True, False]))\n",
    "\n",
    "top_products_each_category = top_products.groupby('Category').first().reset_index()\n",
    "print(top_products_each_category)"
   ]
  },
  {
   "cell_type": "code",
   "execution_count": 10,
   "id": "ee839914",
   "metadata": {},
   "outputs": [
    {
     "name": "stdout",
     "output_type": "stream",
     "text": [
      "Date     2023-01-07\n",
      "Sales         15150\n",
      "Name: 6, dtype: object\n"
     ]
    }
   ],
   "source": [
    "# Date on which the highest total sales (quantity * price) occurred\n",
    "df['Sales'] = df['Quantity'] * df['Price']\n",
    "\n",
    "daily_sales = df.groupby('Date')['Sales'].sum().reset_index()\n",
    "max_sales_date = daily_sales.loc[daily_sales['Sales'].idxmax()]\n",
    "\n",
    "print(max_sales_date)"
   ]
  },
  {
   "cell_type": "code",
   "execution_count": 5,
   "id": "0b3f75e2",
   "metadata": {},
   "outputs": [],
   "source": [
    "# 2) Examining Customer Orders\n",
    "df = pd.read_csv('customer_orders.csv')\n"
   ]
  },
  {
   "cell_type": "code",
   "execution_count": 13,
   "id": "062976c5",
   "metadata": {},
   "outputs": [
    {
     "name": "stdout",
     "output_type": "stream",
     "text": [
      "   CustomerID  OrderCount\n",
      "0         101          21\n",
      "1         102          21\n",
      "2         103          20\n",
      "3         104          20\n"
     ]
    }
   ],
   "source": [
    "# Group the data by CustomerID and filter out customers who have made less than 20 orders\n",
    "customer_order_counts = df.groupby('CustomerID')['OrderID'].nunique().reset_index(name='OrderCount')\n",
    "customers_20plus = customer_order_counts[customer_order_counts['OrderCount'] >= 20]\n",
    "print(customers_20plus)"
   ]
  },
  {
   "cell_type": "code",
   "execution_count": 14,
   "id": "5b6bef10",
   "metadata": {},
   "outputs": [
    {
     "name": "stdout",
     "output_type": "stream",
     "text": [
      "   CustomerID    AvgPrice\n",
      "1         102  138.095238\n",
      "3         104  169.750000\n"
     ]
    }
   ],
   "source": [
    "# Identify customers who have ordered products with an average price per unit greater than $120\n",
    "customer_avg_price = df.groupby('CustomerID')['Price'].mean().reset_index(name=\"AvgPrice\")\n",
    "high_price_customers = customer_avg_price[customer_avg_price['AvgPrice'] > 120]\n",
    "print(high_price_customers)"
   ]
  },
  {
   "cell_type": "code",
   "execution_count": null,
   "id": "7d6771bb",
   "metadata": {},
   "outputs": [
    {
     "name": "stdout",
     "output_type": "stream",
     "text": [
      "\n",
      "=== 5 donadan ko'p sotilgan mahsulotlar ===\n",
      "             Product  TotalQuantity  TotalPrice\n",
      "5        Cargo Pants              6         180\n",
      "15       Dress Shirt              5         125\n",
      "19      Formal Shirt              6         210\n",
      "30        Smartphone              5        2000\n",
      "32       Sport Shoes              5         200\n",
      "35        Sunglasses              5          75\n",
      "41  Wireless Earbuds              6         720\n"
     ]
    }
   ],
   "source": [
    "# Find the total quantity and total price for each product ordered, and filter out products that have a total quantity less than 5 units\n",
    "product_totals = df.groupby(\"Product\").agg(\n",
    "    TotalQuantity=(\"Quantity\", \"sum\"),\n",
    "    TotalPrice=(\"Price\", lambda x: (x * df.loc[x.index, \"Quantity\"]).sum())\n",
    ").reset_index()\n",
    "\n",
    "filtered_products = product_totals[product_totals[\"TotalQuantity\"] >= 5]\n",
    "print(filtered_products)"
   ]
  },
  {
   "cell_type": "code",
   "execution_count": 18,
   "id": "9e0e6f42",
   "metadata": {},
   "outputs": [
    {
     "name": "stdout",
     "output_type": "stream",
     "text": [
      "=== Umumiy Salary Band bo'yicha statistikalar ===\n",
      "  SalaryCategory  PopulationCount  AverageSalary  MedianSalary  \\\n",
      "0           High            11616  995611.498020      993131.0   \n",
      "1            Low                5     411.400000         377.0   \n",
      "2         Medium               30    2848.133333        2533.0   \n",
      "\n",
      "   PopulationPercentage  \n",
      "0             99.699597  \n",
      "1              0.042915  \n",
      "2              0.257489  \n",
      "\n",
      "=== Har bir State bo'yicha Salary Band statistikalar ===\n",
      "            state SalaryCategory  PopulationCount  AverageSalary  \\\n",
      "0         Alabama           High              246   9.750741e+05   \n",
      "1          Alaska           High               53   1.023254e+06   \n",
      "2          Alaska         Medium                1   3.678000e+03   \n",
      "3         Arizona           High              253   1.044695e+06   \n",
      "4        Arkansas           High               60   1.130035e+06   \n",
      "..            ...            ...              ...            ...   \n",
      "73     Washington           High              216   9.434086e+05   \n",
      "74  West Virginia           High              104   1.057742e+06   \n",
      "75      Wisconsin           High              133   8.667390e+05   \n",
      "76      Wisconsin         Medium                1   2.267000e+03   \n",
      "77        Wyoming           High                5   9.683462e+05   \n",
      "\n",
      "    MedianSalary  StateTotal  PopulationPercentage  \n",
      "0       986050.5         246            100.000000  \n",
      "1       971817.0          54             98.148148  \n",
      "2         3678.0          54              1.851852  \n",
      "3      1096324.0         253            100.000000  \n",
      "4      1136530.0          60            100.000000  \n",
      "..           ...         ...                   ...  \n",
      "73      891054.0         216            100.000000  \n",
      "74     1103874.0         104            100.000000  \n",
      "75      779406.0         134             99.253731  \n",
      "76        2267.0         134              0.746269  \n",
      "77     1187976.0           5            100.000000  \n",
      "\n",
      "[78 rows x 7 columns]\n"
     ]
    }
   ],
   "source": [
    "# 3) Population Salary Analysis\n",
    "import sqlite3\n",
    "import numpy as np\n",
    "\n",
    "# 1. SQLite dan o‘qish\n",
    "conn = sqlite3.connect(\"population.db\")\n",
    "population_df = pd.read_sql(\"SELECT * FROM population\", conn)\n",
    "conn.close()\n",
    "\n",
    "# 2. Salary bandlarni qo‘lbola belgilash\n",
    "def categorize_salary(salary):\n",
    "    if salary < 1000:\n",
    "        return \"Low\"\n",
    "    elif salary < 5000:\n",
    "        return \"Medium\"\n",
    "    else:\n",
    "        return \"High\"\n",
    "\n",
    "population_df[\"SalaryCategory\"] = population_df[\"salary\"].apply(categorize_salary)\n",
    "\n",
    "# 3. Umumiy hisob-kitob\n",
    "total_population = len(population_df)\n",
    "\n",
    "salary_category_stats = (\n",
    "    population_df.groupby(\"SalaryCategory\")[\"salary\"]\n",
    "    .agg(\n",
    "        PopulationCount=\"count\",\n",
    "        AverageSalary=\"mean\",\n",
    "        MedianSalary=\"median\"\n",
    "    )\n",
    "    .reset_index()\n",
    ")\n",
    "\n",
    "salary_category_stats[\"PopulationPercentage\"] = (\n",
    "    salary_category_stats[\"PopulationCount\"] / total_population * 100\n",
    ")\n",
    "\n",
    "print(\"=== Umumiy Salary Band bo'yicha statistikalar ===\")\n",
    "print(salary_category_stats)\n",
    "\n",
    "# 4. Har bir State bo‘yicha\n",
    "state_salary_stats = (\n",
    "    population_df.groupby([\"state\", \"SalaryCategory\"])[\"salary\"]\n",
    "    .agg(\n",
    "        PopulationCount=\"count\",\n",
    "        AverageSalary=\"mean\",\n",
    "        MedianSalary=\"median\"\n",
    "    )\n",
    "    .reset_index()\n",
    ")\n",
    "\n",
    "state_totals = population_df.groupby(\"state\")[\"salary\"].count().reset_index(name=\"StateTotal\")\n",
    "state_salary_stats = state_salary_stats.merge(state_totals, on=\"state\")\n",
    "state_salary_stats[\"PopulationPercentage\"] = (\n",
    "    state_salary_stats[\"PopulationCount\"] / state_salary_stats[\"StateTotal\"] * 100\n",
    ")\n",
    "\n",
    "print(\"\\n=== Har bir State bo'yicha Salary Band statistikalar ===\")\n",
    "print(state_salary_stats)\n"
   ]
  },
  {
   "cell_type": "code",
   "execution_count": null,
   "id": "8b259de6",
   "metadata": {},
   "outputs": [],
   "source": []
  }
 ],
 "metadata": {
  "kernelspec": {
   "display_name": "Python 3",
   "language": "python",
   "name": "python3"
  },
  "language_info": {
   "codemirror_mode": {
    "name": "ipython",
    "version": 3
   },
   "file_extension": ".py",
   "mimetype": "text/x-python",
   "name": "python",
   "nbconvert_exporter": "python",
   "pygments_lexer": "ipython3",
   "version": "3.13.6"
  }
 },
 "nbformat": 4,
 "nbformat_minor": 5
}
